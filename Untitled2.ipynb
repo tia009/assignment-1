
{
 "cells": [
  {
   "cell_type": "code",
   "execution_count": 1,
   "id": "424646de-9149-4a80-b055-7ce8fd3080dd",
   "metadata": {},
   "outputs": [],
   "source": [
    "b = \"tia\"\n"
   ]
  },
  {
   "cell_type": "code",
   "execution_count": 2,
   "id": "5091fa1b-5207-46bd-8632-1097e5d6a3b9",
   "metadata": {},
   "outputs": [
    {
     "data": {
      "text/plain": [
       "str"
      ]
     },
     "execution_count": 2,
     "metadata": {},
     "output_type": "execute_result"
    }
   ],
   "source": [
    "type(b)"
   ]
  },
  {
   "cell_type": "code",
   "execution_count": null,
   "id": "7839fce9-56c3-4ec2-897e-3c46cfa7b404",
   "metadata": {},
   "outputs": [],
   "source": []
  },
  {
   "cell_type": "code",
   "execution_count": 3,
   "id": "02b0cfbb-717a-4680-98c8-bc45e6855f37",
   "metadata": {},
   "outputs": [],
   "source": [
    "l = [2,4,5,6,\"WELCOME\" , 2.56 , True]"
   ]
  },
  {
   "cell_type": "code",
   "execution_count": 4,
   "id": "95e152f3-692d-40be-ae4a-8c37692964f1",
   "metadata": {},
   "outputs": [
    {
     "data": {
      "text/plain": [
       "list"
      ]
     },
     "execution_count": 4,
     "metadata": {},
     "output_type": "execute_result"
    }
   ],
   "source": [
    "type(l)"
   ]
  },
  {
   "cell_type": "code",
   "execution_count": null,
   "id": "4231777d-f217-4f33-9184-62814c28e0a0",
   "metadata": {},
   "outputs": [],
   "source": []
  },
  {
   "cell_type": "code",
   "execution_count": 5,
   "id": "7e2f10d5-2b28-4388-a582-a43d3440ffdd",
   "metadata": {},
   "outputs": [],
   "source": [
    "c = 2.05"
   ]
  },
  {
   "cell_type": "code",
   "execution_count": 6,
   "id": "44cef74b-048b-49b3-92b7-d8bfacac6f88",
   "metadata": {},
   "outputs": [
    {
     "data": {
      "text/plain": [
       "float"
      ]
     },
     "execution_count": 6,
     "metadata": {},
     "output_type": "execute_result"
    }
   ],
   "source": [
    "type(c)"
   ]
  },
  {
   "cell_type": "code",
   "execution_count": null,
   "id": "19de28b5-1db5-4280-94ad-3d012456ed6d",
   "metadata": {},
   "outputs": [],
   "source": []
  },
  {
   "cell_type": "code",
   "execution_count": 7,
   "id": "7ecd7e24-303c-4397-87ae-db5b894e7939",
   "metadata": {},
   "outputs": [],
   "source": [
    "d = (1.0,9.9,30)"
   ]
  },
  {
   "cell_type": "code",
   "execution_count": 8,
   "id": "f7145214-325e-423d-9adb-f4b6d565cf17",
   "metadata": {},
   "outputs": [
    {
     "data": {
      "text/plain": [
       "tuple"
      ]
     },
     "execution_count": 8,
     "metadata": {},
     "output_type": "execute_result"
    }
   ],
   "source": [
    "type(d)"
   ]
  },
  {
   "cell_type": "code",
   "execution_count": null,
   "id": "f36a6538-84fb-446b-ae6b-991f065e7ae4",
   "metadata": {},
   "outputs": [],
   "source": [
    "question 2"
   ]
  },
  {
   "cell_type": "code",
   "execution_count": 9,
   "id": "7f9aaa5f-3932-46a9-bc9b-139199b5ea53",
   "metadata": {},
   "outputs": [],
   "source": [
    "var1 = ''"
   ]
  },
  {
   "cell_type": "code",
   "execution_count": 10,
   "id": "deab29d5-fea2-4f12-ac4b-18d6be7de4a9",
   "metadata": {},
   "outputs": [
    {
     "data": {
      "text/plain": [
       "str"
      ]
     },
     "execution_count": 10,
     "metadata": {},
     "output_type": "execute_result"
    }
   ],
   "source": [
    "type(var1)"
   ]
  },
  {
   "cell_type": "code",
   "execution_count": 11,
   "id": "71aa16a5-010e-4047-ae51-de6f29f45ce9",
   "metadata": {},
   "outputs": [],
   "source": [
    "var2 = '[DS , ML , PYTHON]'"
   ]
  },
  {
   "cell_type": "code",
   "execution_count": 13,
   "id": "775fbcb4-7cc4-4cf6-9f29-d0526c7ca112",
   "metadata": {},
   "outputs": [
    {
     "data": {
      "text/plain": [
       "str"
      ]
     },
     "execution_count": 13,
     "metadata": {},
     "output_type": "execute_result"
    }
   ],
   "source": [
    "type(var2)"
   ]
  },
  {
   "cell_type": "code",
   "execution_count": 14,
   "id": "3c3a8a5d-8977-4d9f-94e4-181d36a7c104",
   "metadata": {},
   "outputs": [],
   "source": [
    "var3 = ['DS','ML','PYTHON']"
   ]
  },
  {
   "cell_type": "code",
   "execution_count": 15,
   "id": "747a01f6-a6ff-4ca6-b8e5-3ea305b39ba6",
   "metadata": {},
   "outputs": [
    {
     "data": {
      "text/plain": [
       "list"
      ]
     },
     "execution_count": 15,
     "metadata": {},
     "output_type": "execute_result"
    }
   ],
   "source": [
    "type(var3)"
   ]
  },
  {
   "cell_type": "code",
   "execution_count": 16,
   "id": "44744307-c5d1-4b19-9137-2d94f2048b70",
   "metadata": {},
   "outputs": [],
   "source": [
    "var4 = 1."
   ]
  },
  {
   "cell_type": "code",
   "execution_count": 17,
   "id": "bdd7c149-cb20-4905-806e-87c5a0ff2beb",
   "metadata": {},
   "outputs": [
    {
     "data": {
      "text/plain": [
       "float"
      ]
     },
     "execution_count": 17,
     "metadata": {},
     "output_type": "execute_result"
    }
   ],
   "source": [
    "type(var4)"
   ]
  },
  {
   "cell_type": "code",
   "execution_count": null,
   "id": "97d60daa-59c1-49a4-811f-6d0b7cfb3354",
   "metadata": {},
   "outputs": [],
   "source": [
    "question 3"
   ]
  },
  {
   "cell_type": "code",
   "execution_count": 19,
   "id": "3bbf8396-9028-4148-8fbb-0c33a73d8ed5",
   "metadata": {},
   "outputs": [
    {
     "data": {
      "text/plain": [
       "1.25"
      ]
     },
     "execution_count": 19,
     "metadata": {},
     "output_type": "execute_result"
    }
   ],
   "source": [
    "5/4"
   ]
  },
  {
   "cell_type": "code",
   "execution_count": 20,
   "id": "2d8dde84-3bd4-4e73-9fa6-904698913878",
   "metadata": {},
   "outputs": [
    {
     "data": {
      "text/plain": [
       "2"
      ]
     },
     "execution_count": 20,
     "metadata": {},
     "output_type": "execute_result"
    }
   ],
   "source": [
    "2%5"
   ]
  },
  {
   "cell_type": "code",
   "execution_count": 21,
   "id": "15a08b38-8dd7-4c62-a8ac-be0662c8e03e",
   "metadata": {},
   "outputs": [
    {
     "data": {
      "text/plain": [
       "1"
      ]
     },
     "execution_count": 21,
     "metadata": {},
     "output_type": "execute_result"
    }
   ],
   "source": [
    "5//3"
   ]
  },
  {
   "cell_type": "code",
   "execution_count": 22,
   "id": "286f1fa9-de70-480f-93fb-1d7d1086e30e",
   "metadata": {},
   "outputs": [
    {
     "data": {
      "text/plain": [
       "256"
      ]
     },
     "execution_count": 22,
     "metadata": {},
     "output_type": "execute_result"
    }
   ],
   "source": [
    "2**8"
   ]
  },
  {
   "cell_type": "code",
   "execution_count": null,
   "id": "97f89fb6-637f-4cbd-91b1-3b40c3b7eeb4",
   "metadata": {},
   "outputs": [],
   "source": [
    "question 4"
   ]
  },
  {
   "cell_type": "code",
   "execution_count": null,
   "id": "bcef2c2f-1d83-4107-9887-5fc870c0e6a0",
   "metadata": {},
   "outputs": [],
   "source": []
  },
  {
   "cell_type": "code",
   "execution_count": 24,
   "id": "a92ed29d-b8fd-4310-9d2c-c4fa2309f4b5",
   "metadata": {},
   "outputs": [],
   "source": [
    "l = [2,3,4,5,6,\"tia\" , \"call\" ,11.5, 23.45,True]"
   ]
  },
  {
   "cell_type": "code",
   "execution_count": 26,
   "id": "d2110b7c-0e8e-49af-82d3-e3b3d68a82d0",
   "metadata": {},
   "outputs": [
    {
     "name": "stdout",
     "output_type": "stream",
     "text": [
      "<class 'int'>\n",
      "2\n",
      "<class 'int'>\n",
      "3\n",
      "<class 'int'>\n",
      "4\n",
      "<class 'int'>\n",
      "5\n",
      "<class 'int'>\n",
      "6\n",
      "<class 'str'>\n",
      "tia\n",
      "<class 'str'>\n",
      "call\n",
      "<class 'float'>\n",
      "11.5\n",
      "<class 'float'>\n",
      "23.45\n",
      "<class 'bool'>\n",
      "True\n"
     ]
    }
   ],
   "source": [
    "for i in l :\n",
    "    print(type(i))\n",
    "    print(i)"
   ]
  },
  {
   "cell_type": "code",
   "execution_count": null,
   "id": "02ffd084-728f-4dd5-b545-890025e2e533",
   "metadata": {},
   "outputs": [],
   "source": [
    "question 6"
   ]
  },
  {
   "cell_type": "code",
   "execution_count": null,
   "id": "9388ac8f-fa70-455a-a10c-392dc7153190",
   "metadata": {},
   "outputs": [],
   "source": []
  }
 ],
 "metadata": {
  "kernelspec": {
   "display_name": "Python 3 (ipykernel)",
   "language": "python",
   "name": "python3"
  },
  "language_info": {
   "codemirror_mode": {
    "name": "ipython",
    "version": 3
   },
   "file_extension": ".py",
   "mimetype": "text/x-python",
   "name": "python",
   "nbconvert_exporter": "python",
   "pygments_lexer": "ipython3",
   "version": "3.10.8"
  }
 },
 "nbformat": 4,
 "nbformat_minor": 5
}
